{
 "cells": [
  {
   "cell_type": "code",
   "execution_count": 10,
   "metadata": {},
   "outputs": [
    {
     "name": "stdout",
     "output_type": "stream",
     "text": [
      "ID:1 \n",
      "Username: otgonbaatar \n",
      "Hashed password: $2b$12$iDdiheKMzTzHH.oNIUjNl./L2CyREsEbDi1mM9JfRJOv9HeujMkDm \n",
      "Score: 15 \n",
      "\n",
      "ID:2 \n",
      "Username: otgoo \n",
      "Hashed password: $2b$12$2q66qZBi3dQLjyeI2mDNkeB7wyX72U29d25QhdrDCqseqxADrDq8u \n",
      "Score: 25 \n",
      "\n"
     ]
    }
   ],
   "source": [
    "from database import SessionLocal\n",
    "from models import Users\n",
    "db = SessionLocal()\n",
    "users = db.query(Users).all()\n",
    "for user in users:\n",
    "    print(f\"ID:{user.id} \\nUsername: {user.username} \\nHashed password: {user.hashed_password} \\nScore: {user.score} \\n\")"
   ]
  }
 ],
 "metadata": {
  "kernelspec": {
   "display_name": ".venv",
   "language": "python",
   "name": "python3"
  },
  "language_info": {
   "codemirror_mode": {
    "name": "ipython",
    "version": 3
   },
   "file_extension": ".py",
   "mimetype": "text/x-python",
   "name": "python",
   "nbconvert_exporter": "python",
   "pygments_lexer": "ipython3",
   "version": "3.12.4"
  }
 },
 "nbformat": 4,
 "nbformat_minor": 2
}
